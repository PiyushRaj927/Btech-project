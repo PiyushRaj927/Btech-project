{
 "cells": [
  {
   "cell_type": "code",
   "execution_count": 46,
   "metadata": {},
   "outputs": [
    {
     "data": {
      "text/plain": [
       "array([29. , 33. , 34. , 32.5])"
      ]
     },
     "metadata": {},
     "output_type": "display_data"
    },
    {
     "data": {
      "text/plain": [
       "array([  0,  96, 192, 288])"
      ]
     },
     "metadata": {},
     "output_type": "display_data"
    }
   ],
   "source": [
    "import pandas as pd\n",
    "from IPython.display import display\n",
    "import re\n",
    "files = [\n",
    "    \"MO_0hr_sheet.xlsx\",\n",
    "    \"MO_96hr_sheet.xlsx\",\n",
    "    \"MO_192hr_sheet.xlsx\",\n",
    "    \"MO_288hr_sheet.xlsx\"\n",
    "]\n",
    "input_headers = ['Time', 'Temprature', '%tanD', 'Resistivity', 'Permittivity', 'I_pol(t)(uA)']\n",
    "pd.options.display.max_rows = 201\n",
    "dataframes= []\n",
    "for file in files:\n",
    "\n",
    "    sheets_dict = pd.read_excel(file,sheet_name=None,header=None,skiprows=[0,1])\n",
    "    bdv = next(iter(sheets_dict.values())).loc[0,13]\n",
    "    for sheet_name, df in sheets_dict.items():\n",
    "        df.dropna(axis=1,inplace=True,thresh=3)\n",
    "        for i in range(0, df.shape[1]-1, 6):\n",
    "            dataset = df.iloc[:, i:i + 6]\n",
    "            dataset.columns = input_headers\n",
    "            dataset['hour'] = int(re.search(r\"_(\\d+)hr\", file).group(1))\n",
    "            dataset['BDV'] = bdv\n",
    "            dataframes.append(dataset)\n",
    "        # display(  f\"{file}->{sheet_name} BDV:{bdv}done\")\n",
    "    \n",
    "final_dataframe = pd.concat(dataframes, ignore_index=True)\n",
    "display(final_dataframe['BDV'].unique())\n",
    "display(final_dataframe['hour'].unique())\n",
    "\n",
    "final_dataframe.to_csv(\"combined_dataset.csv\")"
   ]
  }
 ],
 "metadata": {
  "kernelspec": {
   "display_name": ".venv",
   "language": "python",
   "name": "python3"
  },
  "language_info": {
   "codemirror_mode": {
    "name": "ipython",
    "version": 3
   },
   "file_extension": ".py",
   "mimetype": "text/x-python",
   "name": "python",
   "nbconvert_exporter": "python",
   "pygments_lexer": "ipython3",
   "version": "3.11.10"
  }
 },
 "nbformat": 4,
 "nbformat_minor": 2
}
